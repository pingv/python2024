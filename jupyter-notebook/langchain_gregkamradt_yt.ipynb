{
 "cells": [
  {
   "cell_type": "markdown",
   "metadata": {},
   "source": [
    "Setting LangChain API Key"
   ]
  },
  {
   "cell_type": "code",
   "execution_count": 6,
   "metadata": {},
   "outputs": [],
   "source": [
    "import getpass\n",
    "import os\n",
    "\n",
    "os.environ[\"LANGCHAIN_TRACING_V2\"] = \"true\"\n",
    "os.environ[\"LANGCHAIN_API_KEY\"] = getpass.getpass()\n",
    "# see: https://smith.langchain.com/onboarding?organizationId=d2049340-4608-4461-ace9-b8318e01e696&step=1"
   ]
  },
  {
   "cell_type": "code",
   "execution_count": 6,
   "metadata": {},
   "outputs": [],
   "source": [
    "!pip3 install -qU langchain-openai"
   ]
  },
  {
   "cell_type": "markdown",
   "metadata": {},
   "source": [
    "Setting OpenAI Key"
   ]
  },
  {
   "cell_type": "code",
   "execution_count": 2,
   "metadata": {},
   "outputs": [],
   "source": [
    "import getpass\n",
    "import os\n",
    "\n",
    "os.environ[\"OPENAI_API_KEY\"] = getpass.getpass()\n",
    "## see: https://platform.openai.com/settings/profile?tab=api-keys\n",
    "\n",
    "from langchain_openai import ChatOpenAI\n",
    "\n",
    "model = ChatOpenAI(model=\"gpt-4o-mini\")"
   ]
  },
  {
   "cell_type": "markdown",
   "metadata": {},
   "source": [
    "<h1> Building a LLM Application from Greg Kamradt YT channel </h1>"
   ]
  },
  {
   "cell_type": "code",
   "execution_count": null,
   "metadata": {},
   "outputs": [],
   "source": [
    "!pip3 install langchain_community"
   ]
  },
  {
   "cell_type": "code",
   "execution_count": null,
   "metadata": {},
   "outputs": [],
   "source": [
    "%pip install langchain\n"
   ]
  },
  {
   "cell_type": "code",
   "execution_count": 6,
   "metadata": {},
   "outputs": [
    {
     "name": "stdout",
     "output_type": "stream",
     "text": [
      "What are the top 5 vacation spots in California?\n",
      "\n",
      "\n",
      "1. Los Angeles: This bustling city offers a variety of attractions including Hollywood, Beverly Hills, and Santa Monica Pier.\n",
      "\n",
      "2. San Francisco: Known for its iconic Golden Gate Bridge, this city is also home to popular tourist destinations like Alcatraz Island, Fisherman's Wharf, and Chinatown.\n",
      "\n",
      "3. San Diego: With its beautiful beaches, world-renowned zoo, and vibrant nightlife, San Diego is a popular vacation spot in Southern California.\n",
      "\n",
      "4. Napa Valley: This famous wine region is a must-visit for wine lovers, with its picturesque vineyards, tasting rooms, and upscale restaurants.\n",
      "\n",
      "5. Lake Tahoe: This stunning lake, nestled in the Sierra Nevada mountains, is perfect for outdoor enthusiasts. Visitors can enjoy skiing in the winter and hiking, boating, and swimming in the summer.\n"
     ]
    }
   ],
   "source": [
    "from langchain.llms import OpenAI\n",
    "\n",
    "anLLM = OpenAI(temperature=0.9)\n",
    "\n",
    "text = \"What are the top 5 vacation spots in California?\"\n",
    "print(text)\n",
    "print(anLLM(text))"
   ]
  },
  {
   "cell_type": "markdown",
   "metadata": {},
   "source": [
    "Trying Chat Prompt Template"
   ]
  },
  {
   "cell_type": "code",
   "execution_count": 7,
   "metadata": {},
   "outputs": [],
   "source": [
    " from langchain.prompts import PromptTemplate"
   ]
  }
 ],
 "metadata": {
  "kernelspec": {
   "display_name": ".venv",
   "language": "python",
   "name": "python3"
  },
  "language_info": {
   "codemirror_mode": {
    "name": "ipython",
    "version": 3
   },
   "file_extension": ".py",
   "mimetype": "text/x-python",
   "name": "python",
   "nbconvert_exporter": "python",
   "pygments_lexer": "ipython3",
   "version": "3.9.6"
  }
 },
 "nbformat": 4,
 "nbformat_minor": 2
}
